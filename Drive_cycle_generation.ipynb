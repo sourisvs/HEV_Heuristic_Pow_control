{
  "nbformat": 4,
  "nbformat_minor": 0,
  "metadata": {
    "colab": {
      "name": "Drive-cycle_generation.ipynb",
      "provenance": [],
      "collapsed_sections": [],
      "include_colab_link": true
    },
    "kernelspec": {
      "name": "python3",
      "display_name": "Python 3"
    },
    "language_info": {
      "name": "python"
    }
  },
  "cells": [
    {
      "cell_type": "markdown",
      "metadata": {
        "id": "view-in-github",
        "colab_type": "text"
      },
      "source": [
        "<a href=\"https://colab.research.google.com/github/sourisvs/HEV_Heuristic_Pow_control/blob/main/Drive_cycle_generation.ipynb\" target=\"_parent\"><img src=\"https://colab.research.google.com/assets/colab-badge.svg\" alt=\"Open In Colab\"/></a>"
      ]
    },
    {
      "cell_type": "code",
      "metadata": {
        "id": "c1HNtYSRGaO8"
      },
      "source": [
        "import numpy as np\n",
        "import pandas as pd\n",
        "import io\n",
        "import matplotlib.pyplot as plt\n",
        "from random import seed\n",
        "from random import random"
      ],
      "execution_count": null,
      "outputs": []
    },
    {
      "cell_type": "code",
      "metadata": {
        "id": "u-Es_oHn3HPP"
      },
      "source": [
        "#open csv file of drivecycle\n",
        "#modify file name according to the name of the file on the system\n",
        "df1 = pd.read_csv('Highway2.csv')"
      ],
      "execution_count": null,
      "outputs": []
    },
    {
      "cell_type": "code",
      "metadata": {
        "id": "F3axOTyVGiKr"
      },
      "source": [
        "x=pd.DataFrame(df1['Speed'])\n",
        "v = x.to_numpy()\n",
        "plt.plot(v)\n",
        "plt.xlabel('Seconds')\n",
        "plt.ylabel('Speed')\n",
        "vmax = max(v)\n",
        "veloc = np.zeros(2*len(v))"
      ],
      "execution_count": null,
      "outputs": []
    },
    {
      "cell_type": "code",
      "metadata": {
        "id": "dy23MAV1GiNj"
      },
      "source": [
        "n = int(vmax/2) +1 \n",
        "print(vmax,n)\n",
        "stat = np.zeros((n,n))\n",
        "prev = 0 5k kyu i\n",
        "curr = 0\n",
        "for i in range(len(v)):\n",
        "  curr = int(v[i]/2)\n",
        "  stat[prev][curr] = stat[prev][curr] + 1\n",
        "  prev = curr\n",
        "#temp = sum(stat)\n",
        "#gt = sum(temp)\n",
        "tpm = stat/stat.sum(axis = 1)[:,None]\n",
        "plt.imshow(tpm)\n",
        "plt.show()\n",
        "print(len(v))"
      ],
      "execution_count": null,
      "outputs": []
    },
    {
      "cell_type": "code",
      "metadata": {
        "id": "u0Hsd7AWGiSY"
      },
      "source": [
        "stateChangeHist = np.zeros((n,n))\n",
        "state = np.zeros([1,n])\n",
        "state[0][0] = 1.\n",
        "currentState = 0\n",
        "stateHist=state\n",
        "dfStateHist=pd.DataFrame(state)\n",
        "distr_hist = np.zeros([1,n], dtype = int)\n",
        "seed(1)"
      ],
      "execution_count": null,
      "outputs": []
    },
    {
      "cell_type": "code",
      "metadata": {
        "id": "eVtqpR_hGiVQ"
      },
      "source": [
        "def simulate_multinomial(vmultinomial):\n",
        "  r=np.random.uniform(0.0,1.0)\n",
        "  #print(r)\n",
        "  CS=np.cumsum(vmultinomial)\n",
        "  CS=np.insert(CS,0,0)\n",
        "  #print(CS)\n",
        "  m=(np.where(CS<r))[0]\n",
        "  #print(m)\n",
        "  nextState=m[len(m)-1]\n",
        "  return nextState"
      ],
      "execution_count": null,
      "outputs": []
    },
    {
      "cell_type": "code",
      "metadata": {
        "id": "Z6PxLV4dGiX2"
      },
      "source": [
        "for x in range(2*len(v)):\n",
        "  veloc[x] = currentState*2\n",
        "  currentRow=np.ma.masked_values((tpm[currentState]), 0.0)\n",
        "  #limsum = sum((tpm[currentState]))\n",
        "  #print(limsum)\n",
        "  nextState=simulate_multinomial(currentRow)\n",
        "  # Keep track of state changes\n",
        "  stateChangeHist[currentState,nextState]+=1\n",
        "   # Keep track of the state vector itself\n",
        "  #print(stateChangeHist)\n",
        "  state = np.zeros([1,n])\n",
        "  state[0][nextState]=1.0\n",
        "  # Keep track of state history\n",
        "  stateHist=np.append(stateHist,state,axis=0)\n",
        "  currentState=nextState\n",
        "  totals=np.sum(stateHist,axis=0)\n",
        "  gt=np.sum(totals)\n",
        "  distrib=totals/gt\n",
        "  distrib=np.reshape(distrib,(1,n))\n",
        "  distr_hist=np.append(distr_hist,distrib,axis=0)"
      ],
      "execution_count": null,
      "outputs": []
    },
    {
      "cell_type": "code",
      "metadata": {
        "id": "eXhs1AKHG4Od"
      },
      "source": [
        "print(distrib)\n",
        "P_hat=stateChangeHist/stateChangeHist.sum(axis=1)[:,None]\n",
        "#t = sum(stateChangeHist)\n",
        "#P_hat = stateChangeHist/sum(t)\n",
        "# Check estimated state transition probabilities based on history so far:\n",
        "dfDistrHist = pd.DataFrame(distr_hist)\n",
        "# Plot the distribution as the simulation progresses over time\n",
        "dfDistrHist.plot(title=\"Simulation History\")\n",
        "plt.show()\n",
        "plt.imshow(P_hat)\n",
        "plt.show()"
      ],
      "execution_count": null,
      "outputs": []
    },
    {
      "cell_type": "code",
      "metadata": {
        "id": "ed1rUI5MG4SM"
      },
      "source": [
        "velocity  = np.zeros(len(v))\n",
        "for i in range(len(v)):\n",
        "  velocity[i] = veloc[i]\n",
        "plt.plot(veloc)\n",
        "#for i in range(len(veloc)):\n",
        "#  print(veloc[i])"
      ],
      "execution_count": null,
      "outputs": []
    },
    {
      "cell_type": "code",
      "metadata": {
        "id": "s5bcIbHqG4Uz"
      },
      "source": [
        "plt.plot(velocity)\n",
        "plt.xlabel('Seconds')\n",
        "plt.ylabel('Speed')"
      ],
      "execution_count": null,
      "outputs": []
    },
    {
      "cell_type": "code",
      "metadata": {
        "id": "52D_YbG7G4Wp"
      },
      "source": [
        "x=pd.DataFrame(df1['Speed'])\n",
        "v = x.to_numpy()\n",
        "#Function to find the least square distance between the velocities of the standard and random drive cycles\n",
        "def lsd(i):\n",
        "    p=velocity[i]\n",
        "    q=v[i]\n",
        "    s=(p-q)**2\n",
        "    return int(s)"
      ],
      "execution_count": null,
      "outputs": []
    },
    {
      "cell_type": "code",
      "metadata": {
        "id": "3CJWi5TRG4bC"
      },
      "source": [
        "#Function to find mean of the velocities of the standard and random drive cycles\n",
        "def mean(i):\n",
        "    a=velocity[i]\n",
        "    b=v[i]\n",
        "    return (a+b)/2"
      ],
      "execution_count": null,
      "outputs": []
    },
    {
      "cell_type": "code",
      "metadata": {
        "id": "4FPzJCPuG4ds"
      },
      "source": [
        "#Mean correction criteria\n",
        "#If the least square distance for corresponding time is greater than 5 units, the random drive cycle value is replaced by the mean of the standard and random drive cycle\n",
        "for i in range(0,len(velocity)):\n",
        "    if lsd(i)>5:\n",
        "        velocity[i]=mean(i)"
      ],
      "execution_count": null,
      "outputs": []
    },
    {
      "cell_type": "code",
      "metadata": {
        "id": "gmpGZI41HOma"
      },
      "source": [
        "#Corrected drive cycle\n",
        "plt.plot(velocity)\n",
        "plt.xlabel('Seconds')\n",
        "plt.ylabel('Speed')"
      ],
      "execution_count": null,
      "outputs": []
    },
    {
      "cell_type": "code",
      "metadata": {
        "id": "Vs8IlesqHOqx"
      },
      "source": [
        "#To download csv file of corrected drive cycle \n",
        "A=pd.DataFrame(velocity)\n",
        "plt.plot(A)\n",
        "from IPython.display import HTML\n",
        "import base64  \n",
        "import pandas as pd  \n",
        "#vary name for each iteration accrodingly , and correct the names when called for stitching\n",
        "def create_download_link( df, title = \"Download CSV file\", filename = \"H1.csv\"):  \n",
        "    csv = df.to_csv(index =False)\n",
        "    b64 = base64.b64encode(csv.encode())\n",
        "    payload = b64.decode()\n",
        "    html = '<a download=\"{filename}\" href=\"data:text/csv;base64,{payload}\" target=\"_blank\">{title}</a>'\n",
        "    html = html.format(payload=payload,title=title,filename=filename)\n",
        "    return HTML(html)\n",
        "create_download_link(A)"
      ],
      "execution_count": null,
      "outputs": []
    },
    {
      "cell_type": "markdown",
      "metadata": {
        "id": "lryz6fphHvru"
      },
      "source": [
        "Stitching\n"
      ]
    },
    {
      "cell_type": "code",
      "metadata": {
        "id": "cV5PFKQu3Kvo"
      },
      "source": [
        "#After producing multiple corrected drive cycles, the data is downloaded and stitched.\n",
        "#can be manually stitched in excel too.\n",
        "#Corrected Highway1 drive cycle\n",
        "dfx=pd.read_csv(\"H1.csv\")\n",
        "plt.plot(dfx)"
      ],
      "execution_count": null,
      "outputs": []
    },
    {
      "cell_type": "code",
      "metadata": {
        "id": "dIR9mYW3Hnic"
      },
      "source": [
        "#Corrected Highway2 drive cycle\n",
        "dfy=pd.read_csv(\"H2.csv\")\n",
        "plt.plot(dfy)\n",
        "U=dfy.tail(385) #for smooth end"
      ],
      "execution_count": null,
      "outputs": []
    },
    {
      "cell_type": "code",
      "metadata": {
        "id": "CPEF8jhfHnlT"
      },
      "source": [
        "#Corrected Book1 drive cycle\n",
        "dfb=pd.read_csv(\"B1.csv\")\n",
        "plt.plot(dfb)"
      ],
      "execution_count": null,
      "outputs": []
    },
    {
      "cell_type": "code",
      "metadata": {
        "id": "-OKv4aiTHnqI"
      },
      "source": [
        "#Another Corrected Book1 drive cycle\n",
        "dfbb=pd.read_csv(\"B2.csv\")\n",
        "plt.plot(dfbb)"
      ],
      "execution_count": null,
      "outputs": []
    },
    {
      "cell_type": "code",
      "metadata": {
        "id": "dR2HCx5xHBr6"
      },
      "source": [
        "#Another Corrected Highway1 drive cycle\n",
        "dfz=pd.read_csv(\"H12.csv\")\n",
        "plt.plot(dfz)"
      ],
      "execution_count": null,
      "outputs": []
    },
    {
      "cell_type": "code",
      "metadata": {
        "id": "mCZw_T9KHnsu"
      },
      "source": [
        "#Zero file\n",
        "df0=pd.read_csv(\"zeroes.csv\")\n",
        "plt.plot(df0)"
      ],
      "execution_count": null,
      "outputs": []
    },
    {
      "cell_type": "code",
      "metadata": {
        "id": "kvKQuxE9Hnwh"
      },
      "source": [
        "#Concatenating the above cycles to obtain the Final drive cycle\n",
        "df_row1 = pd.concat([dfx,df0,dfy,df0,dfb,df0,dfbb,df0,dfz,df0,U],ignore_index=True)"
      ],
      "execution_count": null,
      "outputs": []
    },
    {
      "cell_type": "code",
      "metadata": {
        "id": "3Yz4QzL1IYhq"
      },
      "source": [
        "#to download the final drive cycle as CSV\n",
        "create_download_link(df_row)"
      ],
      "execution_count": null,
      "outputs": []
    },
    {
      "cell_type": "code",
      "metadata": {
        "id": "TVTwnBOTIbtD"
      },
      "source": [
        "#FINAL DRIVE CYCLE\n",
        "dfq=pd.read_csv(\"Stitched1.csv\")\n",
        "plt.plot(dfq)\n",
        "plt.xlabel('Seconds')\n",
        "plt.ylabel('Speed')"
      ],
      "execution_count": null,
      "outputs": []
    }
  ]
}