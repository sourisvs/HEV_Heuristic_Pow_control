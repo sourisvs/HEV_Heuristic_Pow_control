{
  "nbformat": 4,
  "nbformat_minor": 0,
  "metadata": {
    "colab": {
      "name": "Drive-cycle_generation.ipynb",
      "provenance": [],
      "collapsed_sections": [],
      "include_colab_link": true
    },
    "kernelspec": {
      "name": "python3",
      "display_name": "Python 3"
    },
    "language_info": {
      "name": "python"
    }
  },
  "cells": [
    {
      "cell_type": "markdown",
      "metadata": {
        "id": "view-in-github",
        "colab_type": "text"
      },
      "source": [
        "<a href=\"https://colab.research.google.com/github/sourisvs/HEV_Heuristic_Pow_control/blob/main/Drive_cycle_generation.ipynb\" target=\"_parent\"><img src=\"https://colab.research.google.com/assets/colab-badge.svg\" alt=\"Open In Colab\"/></a>"
      ]
    },
    {
      "cell_type": "code",
      "metadata": {
        "id": "c1HNtYSRGaO8"
      },
      "source": [
        "import numpy as np\n",
        "import pandas as pd\n",
        "import io\n",
        "import matplotlib.pyplot as plt\n",
        "from matplotlib import cm\n",
        "import matplotlib.gridspec as grd\n",
        "from mpl_toolkits.mplot3d import axes3d\n",
        "from random import seed\n",
        "from random import random\n",
        "from math import *\n",
        "from google.colab import files"
      ],
      "execution_count": 47,
      "outputs": []
    },
    {
      "cell_type": "code",
      "metadata": {
        "id": "E4l3VW2oVBVB"
      },
      "source": [
        "uploaded = files.upload()"
      ],
      "execution_count": null,
      "outputs": []
    },
    {
      "cell_type": "code",
      "metadata": {
        "id": "d4dGZDe9VGaZ"
      },
      "source": [
        "#open csv file of drivecycle\n",
        "#modify file name according to the name of the file on the system\n",
        "df1 = pd.read_csv(io.BytesIO(uploaded['city2.csv']))\n",
        "x=pd.DataFrame(df1['Speed'])\n",
        "v = x.to_numpy()\n",
        "vmax = max(v)\n",
        "v_SI = 0.44704*v\n",
        "acc = np.zeros(len(v))\n",
        "for i in range(len(v)-1):\n",
        "  acc[i] = (v_SI[i+1]-v_SI[i])\n",
        "veloc = np.zeros(4*len(v))\n",
        "fig1 = plt.figure(figsize=(20,6))\n",
        "plt.plot(v)"
      ],
      "execution_count": null,
      "outputs": []
    },
    {
      "cell_type": "code",
      "metadata": {
        "id": "dgj2ytvdVK1t"
      },
      "source": [
        "n = int(vmax/3) +1 \n",
        "print(vmax,n)\n",
        "stat = np.zeros((n,n))\n",
        "prev = 0\n",
        "curr = 0\n",
        "for i in range(len(v)):\n",
        "  curr = int(v[i]/3)\n",
        "  stat[prev][curr] = stat[prev][curr] + 1\n",
        "  prev = curr\n",
        "tpm = stat/stat.sum(axis = 1)[:,None]\n",
        "x = np.linspace(0,len(tpm)-1,len(tpm))\n",
        "y = np.linspace(0,len(tpm)-1,len(tpm))\n",
        "X, Y = np.meshgrid(x, y)\n",
        "fig = plt.figure(figsize=(10,6))\n",
        "plt.imshow(tpm)\n",
        "#ax = fig.add_subplot(111, projection='3d')\n",
        "#ax.plot_surface(X,Y,tpm,cmap=cm.viridis)"
      ],
      "execution_count": null,
      "outputs": []
    },
    {
      "cell_type": "code",
      "metadata": {
        "id": "u0Hsd7AWGiSY"
      },
      "source": [
        "stateChangeHist = np.zeros((n,n))\n",
        "state = np.zeros([1,n])\n",
        "state[0][0] = 1.\n",
        "currentState = 0\n",
        "stateHist=state\n",
        "dfStateHist=pd.DataFrame(state)\n",
        "distr_hist = np.zeros([1,n], dtype = int)\n",
        "seed(4)"
      ],
      "execution_count": 53,
      "outputs": []
    },
    {
      "cell_type": "code",
      "metadata": {
        "id": "eVtqpR_hGiVQ"
      },
      "source": [
        "def simulate_multinomial(vmultinomial):\n",
        "  r=np.random.uniform(0.0,1.0)\n",
        "  #print(r)\n",
        "  CS=np.cumsum(vmultinomial)\n",
        "  CS=np.insert(CS,0,0)\n",
        "  #print(CS)\n",
        "  m=(np.where(CS<r))[0]\n",
        "  #print(m)\n",
        "  nextState=m[len(m)-1]\n",
        "  return nextState"
      ],
      "execution_count": 54,
      "outputs": []
    },
    {
      "cell_type": "code",
      "metadata": {
        "id": "Z6PxLV4dGiX2"
      },
      "source": [
        "for x in range(4*len(v)):\n",
        "  veloc[x] = currentState*3\n",
        "  currentRow=np.ma.masked_values((tpm[currentState]), 0.0)\n",
        "  #limsum = sum((tpm[currentState]))\n",
        "  #print(limsum)\n",
        "  nextState=simulate_multinomial(currentRow)\n",
        "  # Keep track of state changes\n",
        "  stateChangeHist[currentState,nextState]+=1\n",
        "   # Keep track of the state vector itself\n",
        "  #print(stateChangeHist)\n",
        "  state = np.zeros([1,n])\n",
        "  state[0][nextState]=1.0\n",
        "  # Keep track of state history\n",
        "  stateHist=np.append(stateHist,state,axis=0)\n",
        "  currentState=nextState\n",
        "  totals=np.sum(stateHist,axis=0)\n",
        "  gt=np.sum(totals)\n",
        "  distrib=totals/gt\n",
        "  distrib=np.reshape(distrib,(1,n))\n",
        "  distr_hist=np.append(distr_hist,distrib,axis=0)"
      ],
      "execution_count": 55,
      "outputs": []
    },
    {
      "cell_type": "code",
      "metadata": {
        "id": "sXpKmt_cVQSh"
      },
      "source": [
        "print(distrib)\n",
        "P_hat=stateChangeHist/stateChangeHist.sum(axis=1)[:,None]\n",
        "#t = sum(stateChangeHist)\n",
        "#P_hat = stateChangeHist/sum(t)\n",
        "# Check estimated state transition probabilities based on history so far:\n",
        "dfDistrHist = pd.DataFrame(distr_hist)\n",
        "# Plot the distribution as the simulation progresses over time\n",
        "dfDistrHist.plot(title=\"Simulation History\")\n",
        "plt.show()\n",
        "plt.imshow(P_hat)\n",
        "plt.show()"
      ],
      "execution_count": null,
      "outputs": []
    },
    {
      "cell_type": "code",
      "metadata": {
        "id": "iyojQEfxVT9d"
      },
      "source": [
        "velocity  = np.zeros(len(v))\n",
        "for i in range(len(v)):\n",
        "  velocity[i] = veloc[i]\n",
        "plt.plot(veloc)\n",
        "#for i in range(len(veloc)):\n",
        "#  print(veloc[i])"
      ],
      "execution_count": null,
      "outputs": []
    },
    {
      "cell_type": "code",
      "metadata": {
        "id": "RTVJCxPMVe28"
      },
      "source": [
        "plt.plot(velocity)\n",
        "plt.xlabel('Seconds')\n",
        "plt.ylabel('Speed')"
      ],
      "execution_count": null,
      "outputs": []
    },
    {
      "cell_type": "code",
      "metadata": {
        "id": "52D_YbG7G4Wp"
      },
      "source": [
        "#Function to find the least square distance between the velocities of the standard and random drive cycles\n",
        "def lsd(i):\n",
        "    p=velocity[i]\n",
        "    q=v[i]\n",
        "    s=(p-q)**2\n",
        "    return int(s)"
      ],
      "execution_count": 43,
      "outputs": []
    },
    {
      "cell_type": "code",
      "metadata": {
        "id": "3CJWi5TRG4bC"
      },
      "source": [
        "#Function to find mean of the velocities of the standard and random drive cycles\n",
        "def mean(i):\n",
        "    a=velocity[i]\n",
        "    b=v[i]\n",
        "    return (a+b)/2"
      ],
      "execution_count": 44,
      "outputs": []
    },
    {
      "cell_type": "code",
      "metadata": {
        "id": "4FPzJCPuG4ds"
      },
      "source": [
        "#Mean correction criteria\n",
        "#If the least square distance for corresponding time is greater than 5 units, the random drive cycle value is replaced by the mean of the standard and random drive cycle\n",
        "for i in range(0,len(velocity)):\n",
        "    if lsd(i)>5:\n",
        "        velocity[i]=mean(i)"
      ],
      "execution_count": 45,
      "outputs": []
    },
    {
      "cell_type": "code",
      "metadata": {
        "id": "1SiKJTUDVhi4"
      },
      "source": [
        "#Corrected drive cycle\n",
        "plt.plot(velocity)\n",
        "plt.xlabel('Seconds')\n",
        "plt.ylabel('Speed')"
      ],
      "execution_count": null,
      "outputs": []
    },
    {
      "cell_type": "code",
      "metadata": {
        "id": "gE1qNtmdVkyA"
      },
      "source": [
        "#To download csv file of corrected drive cycle \n",
        "A=pd.DataFrame(velocity)\n",
        "plt.plot(A)\n",
        "from IPython.display import HTML\n",
        "import base64  \n",
        "import pandas as pd  \n",
        "#vary name for each iteration accrodingly , and correct the names when called for stitching\n",
        "def create_download_link( df, title = \"Download CSV file\", filename = \"drivecycle1.csv\"):  \n",
        "    csv = df.to_csv(index =False)\n",
        "    b64 = base64.b64encode(csv.encode())\n",
        "    payload = b64.decode()\n",
        "    html = '<a download=\"{filename}\" href=\"data:text/csv;base64,{payload}\" target=\"_blank\">{title}</a>'\n",
        "    html = html.format(payload=payload,title=title,filename=filename)\n",
        "    return HTML(html)\n",
        "create_download_link(A)"
      ],
      "execution_count": null,
      "outputs": []
    },
    {
      "cell_type": "markdown",
      "metadata": {
        "id": "lryz6fphHvru"
      },
      "source": [
        "Stitching\n"
      ]
    },
    {
      "cell_type": "code",
      "metadata": {
        "id": "JNfg5aQCTZQQ"
      },
      "source": [
        "upload1 = files.upload()\n",
        "upload2 = files.upload()\n",
        "upload3 = files.upload()\n",
        "upload4 = files.upload()\n",
        "zero = files.upload()"
      ],
      "execution_count": null,
      "outputs": []
    },
    {
      "cell_type": "code",
      "metadata": {
        "id": "cV5PFKQu3Kvo"
      },
      "source": [
        "#After producing multiple corrected drive cycles, the data is downloaded and stitched.\n",
        "#can be manually stitched in excel too.\n",
        "#Corrected drive cycle 1\n",
        "dfx=pd.read_csv(io.BytesIO(upload1[\"drivecycle1.csv\"]))\n",
        "plt.plot(dfx)"
      ],
      "execution_count": null,
      "outputs": []
    },
    {
      "cell_type": "code",
      "metadata": {
        "id": "dIR9mYW3Hnic"
      },
      "source": [
        "#Corrected drive cycle 2\n",
        "dfy=pd.read_csv(io.BytesIO(upload2[\"drivecycle2.csv\"]))\n",
        "plt.plot(dfy)\n",
        "U=dfy.tail(385) #for smooth end"
      ],
      "execution_count": null,
      "outputs": []
    },
    {
      "cell_type": "code",
      "metadata": {
        "id": "CPEF8jhfHnlT"
      },
      "source": [
        "#Corrected  drive cycle 3\n",
        "dfb=pd.read_csv(io.BytesIO(upload3[\"drivecycle3.csv\"]))\n",
        "plt.plot(dfb)"
      ],
      "execution_count": null,
      "outputs": []
    },
    {
      "cell_type": "code",
      "metadata": {
        "id": "-OKv4aiTHnqI"
      },
      "source": [
        "#Corrected drive cycle 4\n",
        "dfbb=pd.read_csv(io.BytesIO(upload4[\"drivecycle4.csv\"]))\n",
        "plt.plot(dfbb)"
      ],
      "execution_count": null,
      "outputs": []
    },
    {
      "cell_type": "code",
      "metadata": {
        "id": "ucXZ-aOAUObv"
      },
      "source": [
        "#Zero file\n",
        "df0=pd.read_csv(io.BytesIO(zero[\"zeros.csv\"]))\n",
        "plt.plot(df0)"
      ],
      "execution_count": null,
      "outputs": []
    },
    {
      "cell_type": "code",
      "metadata": {
        "id": "kvKQuxE9Hnwh"
      },
      "source": [
        "#Concatenating the above cycles to obtain the Final drive cycle\n",
        "df_row1 = pd.concat([dfx,df0,dfy,df0,dfb,df0,dfbb,df0,dfz,df0,U],ignore_index=True)"
      ],
      "execution_count": null,
      "outputs": []
    },
    {
      "cell_type": "code",
      "metadata": {
        "id": "3Yz4QzL1IYhq"
      },
      "source": [
        "#to download the final drive cycle as CSV\n",
        "create_download_link(df_row)"
      ],
      "execution_count": null,
      "outputs": []
    },
    {
      "cell_type": "code",
      "metadata": {
        "id": "TVTwnBOTIbtD"
      },
      "source": [
        "#FINAL DRIVE CYCLE\n",
        "dfq=pd.read_csv(\"Stitchedrivecycle1.csv\")\n",
        "plt.plot(dfq)\n",
        "plt.xlabel('Seconds')\n",
        "plt.ylabel('Speed')"
      ],
      "execution_count": null,
      "outputs": []
    }
  ]
}